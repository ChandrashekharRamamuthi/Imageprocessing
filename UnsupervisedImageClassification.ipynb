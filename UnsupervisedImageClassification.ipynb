{
 "cells": [
  {
   "cell_type": "code",
   "execution_count": 1,
   "metadata": {
    "id": "dEfnofdTrUMT"
   },
   "outputs": [],
   "source": [
    "# Importing the dataset from keras\n",
    "from keras.datasets import mnist\n",
    "(x_train, y_train), (x_test, y_test) = mnist.load_data()"
   ]
  },
  {
   "cell_type": "code",
   "execution_count": 2,
   "metadata": {
    "id": "rW2DQ-ELrfAf"
   },
   "outputs": [
    {
     "name": "stdout",
     "output_type": "stream",
     "text": [
      "<class 'numpy.ndarray'>\n",
      "<class 'numpy.ndarray'>\n",
      "<class 'numpy.ndarray'>\n",
      "<class 'numpy.ndarray'>\n"
     ]
    }
   ],
   "source": [
    "# Checking the ‘type’\n",
    "print(type(x_train))\n",
    "print(type(x_test))\n",
    "print(type(y_train))\n",
    "print(type(y_test))"
   ]
  },
  {
   "cell_type": "code",
   "execution_count": 3,
   "metadata": {
    "id": "p0yjZUEIri28"
   },
   "outputs": [
    {
     "name": "stdout",
     "output_type": "stream",
     "text": [
      "(60000, 28, 28)\n",
      "(10000, 28, 28)\n",
      "(60000,)\n",
      "(10000,)\n"
     ]
    }
   ],
   "source": [
    "# Checking the shape\n",
    "print(x_train.shape)\n",
    "print(x_test.shape)\n",
    "print(y_train.shape)\n",
    "print(y_test.shape)"
   ]
  },
  {
   "cell_type": "code",
   "execution_count": 4,
   "metadata": {
    "id": "zDazUhUzrlDf"
   },
   "outputs": [
    {
     "data": {
      "text/plain": [
       "<Figure size 432x288 with 0 Axes>"
      ]
     },
     "metadata": {},
     "output_type": "display_data"
    },
    {
     "data": {
      "image/png": "[encoded data removed]",
      "text/plain": [
       "<Figure size 720x648 with 9 Axes>"
      ]
     },
     "metadata": {
      "needs_background": "light"
     },
     "output_type": "display_data"
    }
   ],
   "source": [
    "import matplotlib.pyplot as plt\n",
    "import seaborn as sns\n",
    "plt.gray() # B/W Images\n",
    "plt.figure(figsize = (10,9)) # Adjusting figure size\n",
    "# Displaying a grid of 3x3 images\n",
    "for i in range(9):\n",
    " plt.subplot(3,3,i+1)\n",
    " plt.imshow(x_train[i])"
   ]
  },
  {
   "cell_type": "code",
   "execution_count": 5,
   "metadata": {
    "id": "DF72QXQproan"
   },
   "outputs": [
    {
     "name": "stdout",
     "output_type": "stream",
     "text": [
      "5\n",
      "0\n",
      "4\n",
      "1\n",
      "9\n"
     ]
    }
   ],
   "source": [
    "# Printing examples in 'y_train'\n",
    "for i in range(5):\n",
    "  print(y_train[i])"
   ]
  },
  {
   "cell_type": "code",
   "execution_count": 6,
   "metadata": {
    "id": "Up7dO8PLrqbj"
   },
   "outputs": [
    {
     "name": "stdout",
     "output_type": "stream",
     "text": [
      "0\n",
      "255\n"
     ]
    }
   ],
   "source": [
    "# Checking the minimum and maximum values of x_train\n",
    "print(x_train.min())\n",
    "print(x_train.max())"
   ]
  },
  {
   "cell_type": "code",
   "execution_count": 7,
   "metadata": {
    "id": "OD37UArfrs1Z"
   },
   "outputs": [],
   "source": [
    "# Data Normalization\n",
    "# Conversion to float\n",
    "x_train = x_train.astype('float32') \n",
    "x_test = x_test.astype('float32')\n",
    "# Normalization\n",
    "x_train = x_train/255.0\n",
    "x_test = x_test/255.0"
   ]
  },
  {
   "cell_type": "code",
   "execution_count": 8,
   "metadata": {
    "id": "uj1Abijarutl"
   },
   "outputs": [
    {
     "name": "stdout",
     "output_type": "stream",
     "text": [
      "0.0\n",
      "1.0\n"
     ]
    },
    {
     "data": {
      "text/plain": [
       "(60000, 28, 28)"
      ]
     },
     "execution_count": 8,
     "metadata": {},
     "output_type": "execute_result"
    }
   ],
   "source": [
    "# Checking the minimum and maximum values of x_train\n",
    "print(x_train.min())\n",
    "print(x_train.max())\n",
    "x_train.shape"
   ]
  },
  {
   "cell_type": "code",
   "execution_count": 9,
   "metadata": {},
   "outputs": [],
   "source": [
    "nsamples, nx, ny =x_train.shape\n",
    "train_dataset = x_train.reshape((nsamples,nx*ny))\n"
   ]
  },
  {
   "cell_type": "code",
   "execution_count": 10,
   "metadata": {
    "id": "mh2qYMbLrxoF"
   },
   "outputs": [
    {
     "name": "stderr",
     "output_type": "stream",
     "text": [
      "C:\\Users\\ivc21262adm\\anaconda3\\lib\\site-packages\\sklearn\\cluster\\_kmeans.py:1043: UserWarning: MiniBatchKMeans is known to have a memory leak on Windows with MKL, when there are less chunks than available threads. You can prevent it by setting batch_size >= 5120 or by setting the environment variable OMP_NUM_THREADS=4\n",
      "  warnings.warn(\n"
     ]
    },
    {
     "data": {
      "text/plain": [
       "MiniBatchKMeans(n_clusters=10)"
      ]
     },
     "execution_count": 10,
     "metadata": {},
     "output_type": "execute_result"
    }
   ],
   "source": [
    "import numpy as np \n",
    "from sklearn.cluster import MiniBatchKMeans\n",
    "total_clusters = len(np.unique(y_test))\n",
    "# Initialize the K-Means model\n",
    "kmeans = MiniBatchKMeans(n_clusters = total_clusters)\n",
    "# Fitting the model to training set\n",
    "kmeans.fit(train_dataset)"
   ]
  },
  {
   "cell_type": "code",
   "execution_count": 11,
   "metadata": {
    "id": "BAcKzK9TrzkJ"
   },
   "outputs": [
    {
     "data": {
      "text/plain": [
       "array([4, 6, 8, ..., 4, 9, 0])"
      ]
     },
     "execution_count": 11,
     "metadata": {},
     "output_type": "execute_result"
    }
   ],
   "source": [
    "kmeans.labels_\n"
   ]
  },
  {
   "cell_type": "code",
   "execution_count": 83,
   "metadata": {
    "id": "l0KDIo6Br2xQ"
   },
   "outputs": [],
   "source": [
    "def retrieve_info(cluster_labels,y_train):\n",
    "\n",
    "#  Associates most probable label with each cluster in KMeans model\n",
    "#  returns: dictionary of clusters assigned to each label\n",
    "\n",
    "  # Initializing\n",
    "  reference_labels = {}\n",
    "  # For loop to run through each label of cluster label\n",
    "  for i in range(len(np.unique(kmeans.labels_))):\n",
    "    index = np.where(cluster_labels == i,1,0)\n",
    "    num = np.bincount(y_train[index==1]).argmax()\n",
    "    reference_labels[i] = num\n",
    "  return reference_labels"
   ]
  },
  {
   "cell_type": "code",
   "execution_count": 13,
   "metadata": {
    "id": "e6owXKfRr8pD"
   },
   "outputs": [],
   "source": [
    "reference_labels = retrieve_info(kmeans.labels_,y_train)\n",
    "number_labels = np.random.rand(len(kmeans.labels_))\n",
    "for i in range(len(kmeans.labels_)):\n",
    "  number_labels[i] = reference_labels[kmeans.labels_[i]]"
   ]
  },
  {
   "cell_type": "code",
   "execution_count": 14,
   "metadata": {
    "id": "i3i4xpuAr-zZ"
   },
   "outputs": [
    {
     "name": "stdout",
     "output_type": "stream",
     "text": [
      "[8 0 4 1 4 0 1 8 1 4 8 1 3 6 1 4 2 8 6 4]\n",
      "[5 0 4 1 9 2 1 3 1 4 3 5 3 6 1 7 2 8 6 9]\n"
     ]
    }
   ],
   "source": [
    "# Comparing Predicted values and Actual values\n",
    "print(number_labels[:20].astype('int'))\n",
    "print(y_train[:20])"
   ]
  },
  {
   "cell_type": "code",
   "execution_count": 15,
   "metadata": {
    "id": "doa4aLiTsAvV"
   },
   "outputs": [
    {
     "name": "stdout",
     "output_type": "stream",
     "text": [
      "0.6111\n"
     ]
    }
   ],
   "source": [
    "# Calculating accuracy score\n",
    "from sklearn.metrics import accuracy_score\n",
    "print(accuracy_score(number_labels,y_train))"
   ]
  },
  {
   "cell_type": "markdown",
   "metadata": {
    "id": "Wtj0eWnmZTur"
   },
   "source": [
    "Task 1: Run the above code by solving all issues\n",
    "\n",
    "Task 2: Optimize the code to improve the accuracy using given tutorial\n",
    "\n",
    "Task 3: Try to run the code by using differnet dataset(Other than digits)"
   ]
  },
  {
   "cell_type": "markdown",
   "metadata": {},
   "source": [
    "# Task 1: Run the above code by solving all issues\n",
    "#Completed as above"
   ]
  },
  {
   "cell_type": "markdown",
   "metadata": {},
   "source": [
    "# Task 2: Optimize the code to improve the accuracy using given tutorial\n",
    "below is perfoamce improvement "
   ]
  },
  {
   "cell_type": "code",
   "execution_count": 18,
   "metadata": {},
   "outputs": [],
   "source": [
    "# Function to calculate metrics for the model\n",
    "def calculate_metrics(model,output):\n",
    " print('Number of clusters is {}'.format(model.n_clusters))\n",
    " print('Inertia : {}'.format(model.inertia_))\n",
    " print('Homogeneity :       {}'.format(metrics.homogeneity_score(output,model.labels_)))"
   ]
  },
  {
   "cell_type": "code",
   "execution_count": 32,
   "metadata": {},
   "outputs": [
    {
     "name": "stdout",
     "output_type": "stream",
     "text": [
      "Number of clusters is 10\n",
      "Inertia : 2385003.75\n",
      "Homogeneity :       0.4979627429681377\n",
      "Number of clusters is 16\n",
      "Inertia : 2211280.75\n",
      "Homogeneity :       0.5620133336425874\n",
      "Number of clusters is 36\n",
      "Inertia : 1965955.875\n",
      "Homogeneity :       0.6808301681857164\n",
      "Number of clusters is 64\n",
      "Inertia : 1806373.25\n",
      "Homogeneity :       0.7481543445789419\n",
      "Number of clusters is 144\n",
      "Inertia : 1621672.625\n",
      "Homogeneity :       0.8106073865113683\n",
      "Number of clusters is 256\n",
      "Inertia : 1502906.0\n",
      "Homogeneity :       0.8417360102248539\n",
      "\n",
      "\n",
      "Accuracy score : 0.8963166666666667\n",
      "\n",
      "\n"
     ]
    }
   ],
   "source": [
    "from sklearn import metrics\n",
    "import warnings\n",
    "warnings.filterwarnings('ignore')\n",
    "\n",
    "cluster_number = [10,16,36,64,144,256]\n",
    "for i in cluster_number:\n",
    "    total_clusters = len(np.unique(y_test))\n",
    "# Initialize the K-Means model\n",
    "    kmeans = MiniBatchKMeans(n_clusters = i)\n",
    "# Fitting the model to training set\n",
    "    kmeans.fit(train_dataset)\n",
    "# Calculating the metrics\n",
    "    calculate_metrics(kmeans,y_train)\n",
    "# Calculating reference_labels\n",
    "    reference_labels = retrieve_info(kmeans.labels_,y_train)\n",
    "# ‘number_labels’ is a list which denotes the number displayed in image\n",
    "    number_labels = np.random.rand(len(kmeans.labels_))\n",
    "for i in range(len(kmeans.labels_)):\n",
    "    number_labels[i] = reference_labels[kmeans.labels_[i]]\n",
    "print('\\n')\n",
    "print('Accuracy score : {}'.format(accuracy_score(number_labels,y_train)))\n",
    "print('\\n')"
   ]
  },
  {
   "cell_type": "markdown",
   "metadata": {},
   "source": [
    "# Task 3: Try to run the code by using differnet dataset(Other than digits)"
   ]
  },
  {
   "cell_type": "code",
   "execution_count": 100,
   "metadata": {},
   "outputs": [
    {
     "name": "stdout",
     "output_type": "stream",
     "text": [
      "<class 'numpy.ndarray'>\n",
      "<class 'numpy.ndarray'>\n",
      "<class 'numpy.ndarray'>\n",
      "<class 'numpy.ndarray'>\n"
     ]
    }
   ],
   "source": [
    "import numpy as np\n",
    "from keras.datasets import cifar10\n",
    " \n",
    "\n",
    "(new_train, newy_train ), (new_test, newy_test) =cifar10.load_data()\n",
    "# Checking the ‘type’\n",
    "print(type(new_train))\n",
    "print(type(new_test))\n",
    "print(type(newy_train))\n",
    "print(type(newy_test))"
   ]
  },
  {
   "cell_type": "code",
   "execution_count": 101,
   "metadata": {},
   "outputs": [
    {
     "name": "stdout",
     "output_type": "stream",
     "text": [
      "(50000, 32, 32, 3)\n",
      "(10000, 32, 32, 3)\n",
      "(50000, 1)\n",
      "(10000, 1)\n"
     ]
    }
   ],
   "source": [
    "print((new_train.shape))\n",
    "print((new_test.shape))\n",
    "print((newy_train.shape))\n",
    "print((newy_test.shape))"
   ]
  },
  {
   "cell_type": "code",
   "execution_count": 102,
   "metadata": {},
   "outputs": [
    {
     "data": {
      "text/plain": [
       "<Figure size 432x288 with 0 Axes>"
      ]
     },
     "metadata": {},
     "output_type": "display_data"
    },
    {
     "data": {
      "image/png": "[encoded data removed]",
      "text/plain": [
       "<Figure size 1152x648 with 3 Axes>"
      ]
     },
     "metadata": {
      "needs_background": "light"
     },
     "output_type": "display_data"
    }
   ],
   "source": [
    "import matplotlib.pyplot as plt\n",
    "import seaborn as sns\n",
    "plt.gray() # B/W Images\n",
    "plt.figure(figsize = (16,9)) # Adjusting figure size\n",
    "# Displaying a grid of 3x3 images\n",
    "for i in range(3):\n",
    " plt.subplot(3,3,i+1)\n",
    " plt.imshow(new_train[i])"
   ]
  },
  {
   "cell_type": "code",
   "execution_count": 92,
   "metadata": {},
   "outputs": [
    {
     "name": "stdout",
     "output_type": "stream",
     "text": [
      "0\n",
      "255\n"
     ]
    }
   ],
   "source": [
    "# Checking the minimum and maximum values of x_train\n",
    "print(new_train.min())\n",
    "print(new_train.max())"
   ]
  },
  {
   "cell_type": "code",
   "execution_count": 103,
   "metadata": {},
   "outputs": [],
   "source": [
    "# Conversion to float\n",
    "new_train = new_train.astype('float32') \n",
    "new_test = new_test.astype('float32')\n",
    "# Normalization\n",
    "new_train = new_train/255.0\n",
    "new_test = new_test/255.0"
   ]
  },
  {
   "cell_type": "code",
   "execution_count": 75,
   "metadata": {},
   "outputs": [
    {
     "name": "stdout",
     "output_type": "stream",
     "text": [
      "0.0\n",
      "0.003921569\n"
     ]
    },
    {
     "data": {
      "text/plain": [
       "(50000, 32, 32, 3)"
      ]
     },
     "execution_count": 75,
     "metadata": {},
     "output_type": "execute_result"
    }
   ],
   "source": [
    "# Checking the minimum and maximum values of x_train\n",
    "print(new_train.min())\n",
    "print(new_train.max())\n",
    "new_train.shape"
   ]
  },
  {
   "cell_type": "code",
   "execution_count": 104,
   "metadata": {},
   "outputs": [],
   "source": [
    "nosamples, nox, noy,z =new_train.shape\n",
    "new_train = new_train.reshape((nosamples,nox*noy*z))"
   ]
  },
  {
   "cell_type": "code",
   "execution_count": 105,
   "metadata": {},
   "outputs": [
    {
     "data": {
      "text/plain": [
       "MiniBatchKMeans(n_clusters=10)"
      ]
     },
     "execution_count": 105,
     "metadata": {},
     "output_type": "execute_result"
    }
   ],
   "source": [
    "import numpy as np \n",
    "from sklearn.cluster import MiniBatchKMeans\n",
    "# Data Normalization\n",
    "\n",
    "#(new_train, new_test), (newy_train, newy_test)\n",
    "\n",
    "total_clusters = len(np.unique(newy_test))\n",
    "# Initialize the K-Means model\n",
    "kmeans = MiniBatchKMeans(n_clusters = total_clusters)\n",
    "# Fitting the model to training set\n",
    "kmeans.fit(new_train)"
   ]
  },
  {
   "cell_type": "code",
   "execution_count": 106,
   "metadata": {},
   "outputs": [
    {
     "data": {
      "text/plain": [
       "array([1, 9, 7, ..., 7, 2, 3])"
      ]
     },
     "execution_count": 106,
     "metadata": {},
     "output_type": "execute_result"
    }
   ],
   "source": [
    "kmeans.labels_"
   ]
  },
  {
   "cell_type": "code",
   "execution_count": 108,
   "metadata": {},
   "outputs": [],
   "source": [
    "newy_train = newy_train.reshape((nosamples))\n",
    "reference_lab = retrieve_info(kmeans.labels_,newy_train)\n",
    "number_lab = np.random.rand(len(kmeans.labels_))\n",
    "for i in range(len(kmeans.labels_)):\n",
    "  number_lab[i] = reference_lab[kmeans.labels_[i]]"
   ]
  },
  {
   "cell_type": "code",
   "execution_count": 109,
   "metadata": {},
   "outputs": [
    {
     "name": "stdout",
     "output_type": "stream",
     "text": [
      "[6 5 8 6 1 1 2 2 0 1 6 8 8 4 1 8 8 6 9 2]\n",
      "[5 0 4 1 9 2 1 3 1 4 3 5 3 6 1 7 2 8 6 9]\n"
     ]
    }
   ],
   "source": [
    "# Comparing Predicted values and Actual values\n",
    "print(number_lab[:20].astype('int'))\n",
    "print(y_train[:20])"
   ]
  },
  {
   "cell_type": "code",
   "execution_count": 110,
   "metadata": {},
   "outputs": [
    {
     "name": "stdout",
     "output_type": "stream",
     "text": [
      "0.22574\n"
     ]
    }
   ],
   "source": [
    "# Calculating accuracy score\n",
    "from sklearn.metrics import accuracy_score\n",
    "print(accuracy_score(number_lab,newy_train))"
   ]
  },
  {
   "cell_type": "code",
   "execution_count": 112,
   "metadata": {},
   "outputs": [
    {
     "name": "stdout",
     "output_type": "stream",
     "text": [
      "Number of clusters is 10\n",
      "Inertia : 6133826.5\n",
      "Homogeneity :       0.07245870316159307\n",
      "Number of clusters is 16\n",
      "Inertia : 5854103.5\n",
      "Homogeneity :       0.09223202656753268\n",
      "Number of clusters is 36\n",
      "Inertia : 5455150.0\n",
      "Homogeneity :       0.11882396006559584\n",
      "Number of clusters is 64\n",
      "Inertia : 5187395.5\n",
      "Homogeneity :       0.138961869966077\n",
      "Number of clusters is 144\n",
      "Inertia : 4877724.0\n",
      "Homogeneity :       0.16824913852940895\n",
      "Number of clusters is 256\n",
      "Inertia : 4700027.0\n",
      "Homogeneity :       0.19016102279623043\n",
      "\n",
      "\n",
      "Accuracy score : 0.3217\n",
      "\n",
      "\n"
     ]
    }
   ],
   "source": [
    "from sklearn import metrics\n",
    "import warnings\n",
    "warnings.filterwarnings('ignore')\n",
    "\n",
    "cluster_number = [10,16,36,64,144,256]\n",
    "for i in cluster_number:\n",
    "    total_clusters = len(np.unique(newy_test))\n",
    "# Initialize the K-Means model\n",
    "    kmeans = MiniBatchKMeans(n_clusters = i)\n",
    "# Fitting the model to training set\n",
    "    kmeans.fit(new_train)\n",
    "# Calculating the metrics\n",
    "    calculate_metrics(kmeans,newy_train)\n",
    "# Calculating reference_labelsnewy_train\n",
    "    reference_labels = retrieve_info(kmeans.labels_,newy_train)\n",
    "# ‘number_labels’ is a list which denotes the number displayed in image\n",
    "    number_labels = np.random.rand(len(kmeans.labels_))\n",
    "for i in range(len(kmeans.labels_)):\n",
    "    number_labels[i] = reference_labels[kmeans.labels_[i]]\n",
    "print('\\n')\n",
    "print('Accuracy score : {}'.format(accuracy_score(number_labels,newy_train)))\n",
    "print('\\n')"
   ]
  },
  {
   "cell_type": "code",
   "execution_count": null,
   "metadata": {},
   "outputs": [],
   "source": [
    "# Accuracy imporved by 10% gtpm .22 t0.3217"
   ]
  },
  {
   "cell_type": "markdown",
   "metadata": {},
   "source": [
    "# What do you analyze in different phases of code? Explain both types of classification."
   ]
  },
  {
   "cell_type": "raw",
   "metadata": {},
   "source": [
    "Unsupervised classification\n",
    "We are using K mean Clustering algorithm . it will parttition the obervation into cluased in the code we have 10 cluster and\n",
    "each pberstaion belong to centriod .\n",
    "\n",
    "2) preprocessing is done  and Data nomalization is done on the MNST dataset \n",
    "\n",
    "3)  K mean intialized and the model is trained \n",
    "\n",
    "4) To improve the performance \n",
    "   Inertia, Homogeneity score and Accuracy score are used .\n",
    "    \n",
    " The inertia score decreases because sum of squares of distances between data point.\n",
    "  The homogenity score increases the clusters become more differentiable\n",
    "  The accuracy score increases. \n",
    "\n",
    "Supervised classification \n",
    "we  have used the convolutional neural network (CNN) .\n",
    "\n",
    "With a convolutional neural network!\n",
    "\n",
    "we have used the below layers in the model \n",
    "\n",
    "Convolutional layers\n",
    "ReLU layers\n",
    "Pooling layers\n",
    "a Fully connected layer\n",
    "The CNN learns features  and uses 2D layer\n",
    "\n",
    "Convolutional layers applies convolution operation to the input and s passes the information on to the next layer.\n",
    "Pooling combines the outputs of clusters of neurons into a single neuron in the next layer.\n",
    "Fully connected layers connect every neuron in one layer to every neuron in the next layer."
   ]
  },
  {
   "cell_type": "markdown",
   "metadata": {},
   "source": [
    "#  #  Which differences did you identify in unsupervised and supervised image classification?"
   ]
  },
  {
   "cell_type": "code",
   "execution_count": null,
   "metadata": {},
   "outputs": [],
   "source": [
    "\n",
    "Supervised classification of image is converting the Image into pixel that are from of specific classes. \n",
    "it needs user input on the number of classes that image  needs to be classified into.\n",
    "The user also sets the bounds for how similar other pixels must be to group them together. \n",
    "In the Unsupervised we have usecd conv2d model.\n",
    "\n",
    "Unsupervised classification the classification is done with out user providing sample classes . \n",
    "The image is converted into pixel  and determine which pixels are related and groups them into classes.\n",
    "The user does not aid in the classification process\\\n",
    "\n",
    "\n",
    "\n",
    "in the above example , bounds are often set based on the spectral characteristics inertia \n",
    "and homogeneity  and we can improve Accuracy\n"
   ]
  }
 ],
 "metadata": {
  "colab": {
   "authorship_tag": "ABX9TyMGMrlE/S5EhZ/1jwuS+f1a",
   "collapsed_sections": [],
   "provenance": []
  },
  "kernelspec": {
   "display_name": "Python 3 (ipykernel)",
   "language": "python",
   "name": "python3"
  },
  "language_info": {
   "codemirror_mode": {
    "name": "ipython",
    "version": 3
   },
   "file_extension": ".py",
   "mimetype": "text/x-python",
   "name": "python",
   "nbconvert_exporter": "python",
   "pygments_lexer": "ipython3",
   "version": "3.9.12"
  }
 },
 "nbformat": 4,
 "nbformat_minor": 1
}
